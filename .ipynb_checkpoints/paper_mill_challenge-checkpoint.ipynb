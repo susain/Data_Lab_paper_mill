{
 "cells": [
  {
   "cell_type": "markdown",
   "metadata": {},
   "source": [
    "## Data Preparation and EDA"
   ]
  },
  {
   "cell_type": "code",
   "execution_count": 1,
   "metadata": {},
   "outputs": [],
   "source": [
    "import numpy as np\n",
    "import pandas as pd\n",
    "import sys\n",
    "from datetime import timedelta\n",
    "from sklearn.metrics import f1_score, precision_score, recall_score\n",
    "from sklearn.linear_model import LogisticRegression\n",
    "import matplotlib.pyplot as plt\n",
    "from xgboost import XGBClassifier \n",
    "import xgboost as xgb\n",
    "import torch\n",
    "import torch.nn as nn\n",
    "from torch.utils.data import Dataset, DataLoader\n",
    "from torch.utils.data.sampler import Sampler\n",
    "from sklearn.preprocessing import OneHotEncoder\n",
    "from sklearn import metrics   #Additional scklearn functions\n",
    "from sklearn.model_selection import GridSearchCV   #Perforing grid search"
   ]
  },
  {
   "cell_type": "code",
   "execution_count": 2,
   "metadata": {},
   "outputs": [],
   "source": [
    "pd.set_option('display.max_rows', 1000)\n",
    "np.set_printoptions(threshold=sys.maxsize)"
   ]
  },
  {
   "cell_type": "markdown",
   "metadata": {},
   "source": [
    "### Read in data"
   ]
  },
  {
   "cell_type": "code",
   "execution_count": 104,
   "metadata": {},
   "outputs": [],
   "source": [
    "data_a = pd.read_csv(\"raw_data.csv\")"
   ]
  },
  {
   "cell_type": "code",
   "execution_count": 63,
   "metadata": {},
   "outputs": [],
   "source": [
    "data_a['time']= pd.to_datetime(data_a['time']) "
   ]
  },
  {
   "cell_type": "code",
   "execution_count": 64,
   "metadata": {},
   "outputs": [
    {
     "data": {
      "text/html": [
       "<div>\n",
       "<style scoped>\n",
       "    .dataframe tbody tr th:only-of-type {\n",
       "        vertical-align: middle;\n",
       "    }\n",
       "\n",
       "    .dataframe tbody tr th {\n",
       "        vertical-align: top;\n",
       "    }\n",
       "\n",
       "    .dataframe thead th {\n",
       "        text-align: right;\n",
       "    }\n",
       "</style>\n",
       "<table border=\"1\" class=\"dataframe\">\n",
       "  <thead>\n",
       "    <tr style=\"text-align: right;\">\n",
       "      <th></th>\n",
       "      <th>time</th>\n",
       "      <th>y</th>\n",
       "      <th>x1</th>\n",
       "      <th>x2</th>\n",
       "      <th>x3</th>\n",
       "      <th>x4</th>\n",
       "      <th>x5</th>\n",
       "      <th>x6</th>\n",
       "      <th>x7</th>\n",
       "      <th>x8</th>\n",
       "      <th>...</th>\n",
       "      <th>x52</th>\n",
       "      <th>x53</th>\n",
       "      <th>x54</th>\n",
       "      <th>x55</th>\n",
       "      <th>x56</th>\n",
       "      <th>x57</th>\n",
       "      <th>x58</th>\n",
       "      <th>x59</th>\n",
       "      <th>x60</th>\n",
       "      <th>x61</th>\n",
       "    </tr>\n",
       "  </thead>\n",
       "  <tbody>\n",
       "    <tr>\n",
       "      <th>0</th>\n",
       "      <td>1999-05-01 00:00:00</td>\n",
       "      <td>0</td>\n",
       "      <td>0.360183</td>\n",
       "      <td>8.916353</td>\n",
       "      <td>10.298991</td>\n",
       "      <td>332.475535</td>\n",
       "      <td>125.067515</td>\n",
       "      <td>255.941905</td>\n",
       "      <td>-3.373756</td>\n",
       "      <td>-3.413735</td>\n",
       "      <td>...</td>\n",
       "      <td>3578.032176</td>\n",
       "      <td>3645.031931</td>\n",
       "      <td>4.149806</td>\n",
       "      <td>1990.071848</td>\n",
       "      <td>283.751170</td>\n",
       "      <td>611.968211</td>\n",
       "      <td>-3.620528</td>\n",
       "      <td>97.959956</td>\n",
       "      <td>-3.334341</td>\n",
       "      <td>0</td>\n",
       "    </tr>\n",
       "    <tr>\n",
       "      <th>1</th>\n",
       "      <td>1999-05-01 00:02:00</td>\n",
       "      <td>0</td>\n",
       "      <td>0.459238</td>\n",
       "      <td>8.970286</td>\n",
       "      <td>10.376388</td>\n",
       "      <td>335.208506</td>\n",
       "      <td>125.057612</td>\n",
       "      <td>257.853709</td>\n",
       "      <td>-3.373756</td>\n",
       "      <td>-3.413735</td>\n",
       "      <td>...</td>\n",
       "      <td>3578.036326</td>\n",
       "      <td>3645.041453</td>\n",
       "      <td>4.149061</td>\n",
       "      <td>1982.248728</td>\n",
       "      <td>287.995799</td>\n",
       "      <td>611.177744</td>\n",
       "      <td>-3.620436</td>\n",
       "      <td>98.097239</td>\n",
       "      <td>-3.334334</td>\n",
       "      <td>0</td>\n",
       "    </tr>\n",
       "    <tr>\n",
       "      <th>2</th>\n",
       "      <td>1999-05-01 00:04:00</td>\n",
       "      <td>0</td>\n",
       "      <td>0.347366</td>\n",
       "      <td>8.831394</td>\n",
       "      <td>10.041600</td>\n",
       "      <td>333.105845</td>\n",
       "      <td>125.047709</td>\n",
       "      <td>258.775156</td>\n",
       "      <td>-3.363685</td>\n",
       "      <td>-3.413735</td>\n",
       "      <td>...</td>\n",
       "      <td>3578.040720</td>\n",
       "      <td>3645.050974</td>\n",
       "      <td>4.148316</td>\n",
       "      <td>1980.478220</td>\n",
       "      <td>292.240397</td>\n",
       "      <td>612.032298</td>\n",
       "      <td>-3.620343</td>\n",
       "      <td>98.847277</td>\n",
       "      <td>-3.334327</td>\n",
       "      <td>0</td>\n",
       "    </tr>\n",
       "    <tr>\n",
       "      <th>3</th>\n",
       "      <td>1999-05-01 00:06:00</td>\n",
       "      <td>0</td>\n",
       "      <td>0.285108</td>\n",
       "      <td>8.753854</td>\n",
       "      <td>10.371135</td>\n",
       "      <td>332.139414</td>\n",
       "      <td>125.038203</td>\n",
       "      <td>258.094187</td>\n",
       "      <td>-3.372413</td>\n",
       "      <td>-3.413735</td>\n",
       "      <td>...</td>\n",
       "      <td>3578.045115</td>\n",
       "      <td>3645.060252</td>\n",
       "      <td>4.147571</td>\n",
       "      <td>1978.707713</td>\n",
       "      <td>286.908183</td>\n",
       "      <td>612.480906</td>\n",
       "      <td>-3.620251</td>\n",
       "      <td>99.561617</td>\n",
       "      <td>-3.334320</td>\n",
       "      <td>0</td>\n",
       "    </tr>\n",
       "    <tr>\n",
       "      <th>4</th>\n",
       "      <td>1999-05-01 00:08:00</td>\n",
       "      <td>0</td>\n",
       "      <td>0.249096</td>\n",
       "      <td>8.762860</td>\n",
       "      <td>10.061597</td>\n",
       "      <td>334.245188</td>\n",
       "      <td>125.031031</td>\n",
       "      <td>259.105875</td>\n",
       "      <td>-3.373756</td>\n",
       "      <td>-3.413735</td>\n",
       "      <td>...</td>\n",
       "      <td>3578.049509</td>\n",
       "      <td>3645.069773</td>\n",
       "      <td>4.146826</td>\n",
       "      <td>1976.937205</td>\n",
       "      <td>287.142985</td>\n",
       "      <td>612.096384</td>\n",
       "      <td>-3.620195</td>\n",
       "      <td>98.417231</td>\n",
       "      <td>-3.334312</td>\n",
       "      <td>0</td>\n",
       "    </tr>\n",
       "  </tbody>\n",
       "</table>\n",
       "<p>5 rows × 63 columns</p>\n",
       "</div>"
      ],
      "text/plain": [
       "                 time  y        x1        x2         x3          x4  \\\n",
       "0 1999-05-01 00:00:00  0  0.360183  8.916353  10.298991  332.475535   \n",
       "1 1999-05-01 00:02:00  0  0.459238  8.970286  10.376388  335.208506   \n",
       "2 1999-05-01 00:04:00  0  0.347366  8.831394  10.041600  333.105845   \n",
       "3 1999-05-01 00:06:00  0  0.285108  8.753854  10.371135  332.139414   \n",
       "4 1999-05-01 00:08:00  0  0.249096  8.762860  10.061597  334.245188   \n",
       "\n",
       "           x5          x6        x7        x8  ...          x52          x53  \\\n",
       "0  125.067515  255.941905 -3.373756 -3.413735  ...  3578.032176  3645.031931   \n",
       "1  125.057612  257.853709 -3.373756 -3.413735  ...  3578.036326  3645.041453   \n",
       "2  125.047709  258.775156 -3.363685 -3.413735  ...  3578.040720  3645.050974   \n",
       "3  125.038203  258.094187 -3.372413 -3.413735  ...  3578.045115  3645.060252   \n",
       "4  125.031031  259.105875 -3.373756 -3.413735  ...  3578.049509  3645.069773   \n",
       "\n",
       "        x54          x55         x56         x57       x58        x59  \\\n",
       "0  4.149806  1990.071848  283.751170  611.968211 -3.620528  97.959956   \n",
       "1  4.149061  1982.248728  287.995799  611.177744 -3.620436  98.097239   \n",
       "2  4.148316  1980.478220  292.240397  612.032298 -3.620343  98.847277   \n",
       "3  4.147571  1978.707713  286.908183  612.480906 -3.620251  99.561617   \n",
       "4  4.146826  1976.937205  287.142985  612.096384 -3.620195  98.417231   \n",
       "\n",
       "        x60  x61  \n",
       "0 -3.334341    0  \n",
       "1 -3.334334    0  \n",
       "2 -3.334327    0  \n",
       "3 -3.334320    0  \n",
       "4 -3.334312    0  \n",
       "\n",
       "[5 rows x 63 columns]"
      ]
     },
     "execution_count": 64,
     "metadata": {},
     "output_type": "execute_result"
    }
   ],
   "source": [
    "data_a.head()"
   ]
  },
  {
   "cell_type": "markdown",
   "metadata": {},
   "source": [
    "Note that the center and scale of the variables are different."
   ]
  },
  {
   "cell_type": "code",
   "execution_count": 65,
   "metadata": {},
   "outputs": [
    {
     "data": {
      "text/plain": [
       "x1      0.011571\n",
       "x2     13.317706\n",
       "x3     14.394389\n",
       "x4    307.243516\n",
       "x5    125.204902\n",
       "x6    277.501372\n",
       "x7     -3.370099\n",
       "x8     -3.355663\n",
       "x9     -3.681417\n",
       "dtype: float64"
      ]
     },
     "execution_count": 65,
     "metadata": {},
     "output_type": "execute_result"
    }
   ],
   "source": [
    "data_a.mean()[1:10]"
   ]
  },
  {
   "cell_type": "code",
   "execution_count": 66,
   "metadata": {},
   "outputs": [
    {
     "data": {
      "text/plain": [
       "x1      0.752521\n",
       "x2      5.189750\n",
       "x3      6.290323\n",
       "x4    130.658307\n",
       "x5      0.645962\n",
       "x6     38.593242\n",
       "x7      0.110771\n",
       "x8      0.077040\n",
       "x9      0.172191\n",
       "dtype: float64"
      ]
     },
     "execution_count": 66,
     "metadata": {},
     "output_type": "execute_result"
    }
   ],
   "source": [
    "data_a.std()[1:10]"
   ]
  },
  {
   "cell_type": "markdown",
   "metadata": {},
   "source": [
    "Next, examine the categorical variables"
   ]
  },
  {
   "cell_type": "code",
   "execution_count": 67,
   "metadata": {},
   "outputs": [
    {
     "data": {
      "image/png": "[encoded data removed]",
      "text/plain": [
       "<Figure size 360x360 with 1 Axes>"
      ]
     },
     "metadata": {},
     "output_type": "display_data"
    },
    {
     "data": {
      "image/png": "[encoded data removed]",
      "text/plain": [
       "<Figure size 360x360 with 1 Axes>"
      ]
     },
     "metadata": {},
     "output_type": "display_data"
    }
   ],
   "source": [
    "x28_unique_vals = data_a['x28'].value_counts()\n",
    "\n",
    "sizes = x28_unique_vals.values\n",
    "labels = x28_unique_vals.index\n",
    "\n",
    "# Plot\n",
    "plt.pie(sizes, labels=labels, autopct='%1.1f%%', startangle=140)\n",
    "\n",
    "plt.axis('equal')\n",
    "fig = plt.gcf()\n",
    "fig.set_size_inches(5,5)\n",
    "plt.title('Distribution of x28')\n",
    "plt.show()\n",
    "\n",
    "x61_unique_vals = data_a['x61'].value_counts()\n",
    "\n",
    "sizes = x61_unique_vals.values\n",
    "labels = x61_unique_vals.index\n",
    "\n",
    "# Plot\n",
    "plt.pie(sizes, labels=labels, autopct='%1.1f%%', startangle=140)\n",
    "\n",
    "plt.axis('equal')\n",
    "fig = plt.gcf()\n",
    "fig.set_size_inches(5,5)\n",
    "plt.title('Distribution of x61')\n",
    "plt.show()"
   ]
  },
  {
   "cell_type": "markdown",
   "metadata": {},
   "source": [
    "Also, look at the imbalance of labels:"
   ]
  },
  {
   "cell_type": "code",
   "execution_count": 68,
   "metadata": {},
   "outputs": [
    {
     "data": {
      "image/png": "[encoded data removed]",
      "text/plain": [
       "<Figure size 360x360 with 1 Axes>"
      ]
     },
     "metadata": {},
     "output_type": "display_data"
    }
   ],
   "source": [
    "y_unique_vals = data_a['y'].value_counts()\n",
    "\n",
    "sizes = y_unique_vals.values\n",
    "labels = y_unique_vals.index\n",
    "\n",
    "# Plot\n",
    "plt.pie(sizes, labels=labels, autopct='%1.1f%%', startangle=140)\n",
    "\n",
    "plt.axis('equal')\n",
    "fig = plt.gcf()\n",
    "fig.set_size_inches(5,5)\n",
    "plt.show()"
   ]
  },
  {
   "cell_type": "markdown",
   "metadata": {},
   "source": [
    "## Data Preprocessing"
   ]
  },
  {
   "cell_type": "markdown",
   "metadata": {},
   "source": [
    "The function \"transform\" takes in the raw dataframe, removes all consecutive 1's except the initial 1 indicating start of break, shifts the labels by k, where k=1 for example would mean we wish to predict the break 2 minutes ahead, and returns the resulting dataframe."
   ]
  },
  {
   "cell_type": "code",
   "execution_count": 99,
   "metadata": {},
   "outputs": [
    {
     "name": "stderr",
     "output_type": "stream",
     "text": [
      "C:\\Users\\Andy_Ko\\Anaconda3\\envs\\Papermill\\lib\\site-packages\\ipykernel_launcher.py:3: SettingWithCopyWarning: \n",
      "A value is trying to be set on a copy of a slice from a DataFrame\n",
      "\n",
      "See the caveats in the documentation: http://pandas.pydata.org/pandas-docs/stable/indexing.html#indexing-view-versus-copy\n",
      "  This is separate from the ipykernel package so we can avoid doing imports until\n"
     ]
    },
    {
     "data": {
      "text/plain": [
       "Int64Index([  258,   259,   260,   261,   262,   263,   264,   265,   266,\n",
       "              784,\n",
       "            ...\n",
       "            19061, 19062, 19063, 19064, 19065, 19066, 19067, 19068, 19069,\n",
       "            19070],\n",
       "           dtype='int64', length=1063)"
      ]
     },
     "execution_count": 99,
     "metadata": {},
     "output_type": "execute_result"
    }
   ],
   "source": [
    "df = data_a\n",
    "ind_one = df.index[df['y'] == 1]\n",
    "df['y'][ind_one-1] = 1\n",
    "one_start_ind = ((ind_one[1:] - ind_one[:len(ind_one)-1]).values == 1).nonzero()[0] + 1\n",
    "to_drop = ind_one[one_start_ind]\n",
    "to_drop"
   ]
  },
  {
   "cell_type": "code",
   "execution_count": 98,
   "metadata": {},
   "outputs": [
    {
     "data": {
      "text/plain": [
       "Int64Index([256, 257, 258, 259, 260, 261, 262, 263, 264, 265, 782, 783, 784,\n",
       "            785, 786],\n",
       "           dtype='int64')"
      ]
     },
     "execution_count": 98,
     "metadata": {},
     "output_type": "execute_result"
    }
   ],
   "source": [
    "ind_one[:15] -1"
   ]
  },
  {
   "cell_type": "code",
   "execution_count": 105,
   "metadata": {},
   "outputs": [],
   "source": [
    "def transform(df, k):\n",
    "    ind_one = df.index[df['y'] == 1]\n",
    "    for i in range(k):\n",
    "        df['y'][ind_one-(i+1)] = 1\n",
    "    ind_one = df.index[df['y'] == 1]\n",
    "    one_start_ind = ((ind_one[1:] - ind_one[:len(ind_one)-1]).values == 1).nonzero()[0] + 1\n",
    "    to_drop = ind_one[one_start_ind]\n",
    "    df2 = df.drop(to_drop)\n",
    "    df2=df2.reset_index(drop=True)\n",
    "    return df2"
   ]
  },
  {
   "cell_type": "code",
   "execution_count": 70,
   "metadata": {},
   "outputs": [],
   "source": [
    "X = data_a.iloc[:,2:]\n",
    "y = data_a['y']"
   ]
  },
  {
   "cell_type": "markdown",
   "metadata": {},
   "source": [
    "Data points recorded at the above \"unmatched\" indices have longer than a 2-minute interval before the next recorded point."
   ]
  },
  {
   "cell_type": "code",
   "execution_count": 72,
   "metadata": {},
   "outputs": [],
   "source": [
    "time_delta = data_a['time'][1:].reset_index(drop=True) - data_a['time'][:-1].reset_index(drop=True)\n",
    "unmatched = data_a.index[time_delta.index[time_delta != timedelta(minutes = 2)]]"
   ]
  },
  {
   "cell_type": "code",
   "execution_count": 74,
   "metadata": {},
   "outputs": [
    {
     "data": {
      "text/plain": [
       "Int64Index([  259,  2372,  2663,  4543,  8390, 10819, 11387, 11452, 12144,\n",
       "            14448, 16605, 16609, 16805],\n",
       "           dtype='int64')"
      ]
     },
     "execution_count": 74,
     "metadata": {},
     "output_type": "execute_result"
    }
   ],
   "source": [
    "unmatched"
   ]
  },
  {
   "cell_type": "code",
   "execution_count": 13,
   "metadata": {},
   "outputs": [
    {
     "data": {
      "text/html": [
       "<div>\n",
       "<style scoped>\n",
       "    .dataframe tbody tr th:only-of-type {\n",
       "        vertical-align: middle;\n",
       "    }\n",
       "\n",
       "    .dataframe tbody tr th {\n",
       "        vertical-align: top;\n",
       "    }\n",
       "\n",
       "    .dataframe thead th {\n",
       "        text-align: right;\n",
       "    }\n",
       "</style>\n",
       "<table border=\"1\" class=\"dataframe\">\n",
       "  <thead>\n",
       "    <tr style=\"text-align: right;\">\n",
       "      <th></th>\n",
       "      <th>time</th>\n",
       "      <th>y</th>\n",
       "      <th>x1</th>\n",
       "      <th>x2</th>\n",
       "      <th>x3</th>\n",
       "      <th>x4</th>\n",
       "      <th>x5</th>\n",
       "      <th>x6</th>\n",
       "      <th>x7</th>\n",
       "      <th>x8</th>\n",
       "      <th>...</th>\n",
       "      <th>x52</th>\n",
       "      <th>x53</th>\n",
       "      <th>x54</th>\n",
       "      <th>x55</th>\n",
       "      <th>x56</th>\n",
       "      <th>x57</th>\n",
       "      <th>x58</th>\n",
       "      <th>x59</th>\n",
       "      <th>x60</th>\n",
       "      <th>x61</th>\n",
       "    </tr>\n",
       "  </thead>\n",
       "  <tbody>\n",
       "    <tr>\n",
       "      <th>2372</th>\n",
       "      <td>1999-05-04 08:56:00</td>\n",
       "      <td>1</td>\n",
       "      <td>-0.414681</td>\n",
       "      <td>3.463495</td>\n",
       "      <td>4.24487</td>\n",
       "      <td>417.388285</td>\n",
       "      <td>125.322138</td>\n",
       "      <td>315.952586</td>\n",
       "      <td>-3.433878</td>\n",
       "      <td>-3.373756</td>\n",
       "      <td>...</td>\n",
       "      <td>3565.177439</td>\n",
       "      <td>3639.188426</td>\n",
       "      <td>4.105983</td>\n",
       "      <td>1973.496897</td>\n",
       "      <td>328.583048</td>\n",
       "      <td>607.268321</td>\n",
       "      <td>-3.637680</td>\n",
       "      <td>100.598155</td>\n",
       "      <td>-3.329657</td>\n",
       "      <td>0</td>\n",
       "    </tr>\n",
       "    <tr>\n",
       "      <th>2373</th>\n",
       "      <td>1999-05-04 11:50:00</td>\n",
       "      <td>1</td>\n",
       "      <td>1.794434</td>\n",
       "      <td>4.445391</td>\n",
       "      <td>4.67388</td>\n",
       "      <td>307.456644</td>\n",
       "      <td>126.510279</td>\n",
       "      <td>267.466288</td>\n",
       "      <td>-3.433878</td>\n",
       "      <td>-3.373756</td>\n",
       "      <td>...</td>\n",
       "      <td>3564.267771</td>\n",
       "      <td>3639.835642</td>\n",
       "      <td>4.120684</td>\n",
       "      <td>1986.152781</td>\n",
       "      <td>272.927897</td>\n",
       "      <td>607.573557</td>\n",
       "      <td>-3.642953</td>\n",
       "      <td>99.293070</td>\n",
       "      <td>-3.335435</td>\n",
       "      <td>1</td>\n",
       "    </tr>\n",
       "  </tbody>\n",
       "</table>\n",
       "<p>2 rows × 63 columns</p>\n",
       "</div>"
      ],
      "text/plain": [
       "                    time  y        x1        x2       x3          x4  \\\n",
       "2372 1999-05-04 08:56:00  1 -0.414681  3.463495  4.24487  417.388285   \n",
       "2373 1999-05-04 11:50:00  1  1.794434  4.445391  4.67388  307.456644   \n",
       "\n",
       "              x5          x6        x7        x8  ...          x52  \\\n",
       "2372  125.322138  315.952586 -3.433878 -3.373756  ...  3565.177439   \n",
       "2373  126.510279  267.466288 -3.433878 -3.373756  ...  3564.267771   \n",
       "\n",
       "              x53       x54          x55         x56         x57       x58  \\\n",
       "2372  3639.188426  4.105983  1973.496897  328.583048  607.268321 -3.637680   \n",
       "2373  3639.835642  4.120684  1986.152781  272.927897  607.573557 -3.642953   \n",
       "\n",
       "             x59       x60  x61  \n",
       "2372  100.598155 -3.329657    0  \n",
       "2373   99.293070 -3.335435    1  \n",
       "\n",
       "[2 rows x 63 columns]"
      ]
     },
     "execution_count": 13,
     "metadata": {},
     "output_type": "execute_result"
    }
   ],
   "source": [
    "data_a.loc[unmatched[1]:unmatched[1]+1]"
   ]
  },
  {
   "cell_type": "markdown",
   "metadata": {},
   "source": [
    "Divide between train and test with ratio 9:1."
   ]
  },
  {
   "cell_type": "code",
   "execution_count": 106,
   "metadata": {},
   "outputs": [
    {
     "name": "stderr",
     "output_type": "stream",
     "text": [
      "C:\\Users\\Andy_Ko\\Anaconda3\\envs\\Papermill\\lib\\site-packages\\ipykernel_launcher.py:5: SettingWithCopyWarning: \n",
      "A value is trying to be set on a copy of a slice from a DataFrame\n",
      "\n",
      "See the caveats in the documentation: http://pandas.pydata.org/pandas-docs/stable/indexing.html#indexing-view-versus-copy\n",
      "  \"\"\"\n"
     ]
    }
   ],
   "source": [
    "data_b = transform(data_a, 1)\n",
    "data_b_one_hot = pd.get_dummies(data_b, columns=['x28', 'x61'])\n",
    "num_train = int(np.round(0.9*data_b.shape[0]))\n",
    "\n",
    "train = data_b.iloc[:num_train, :]\n",
    "test = data_b.iloc[num_train:, :]\n",
    "\n",
    "X_train = data_b.iloc[:num_train,2:]\n",
    "y_train = data_b['y'][:num_train]\n",
    "X_test = data_b.iloc[num_train:,2:]\n",
    "y_test = data_b['y'][num_train:]"
   ]
  },
  {
   "cell_type": "code",
   "execution_count": 110,
   "metadata": {},
   "outputs": [
    {
     "data": {
      "text/plain": [
       "(16446, 63)"
      ]
     },
     "execution_count": 110,
     "metadata": {},
     "output_type": "execute_result"
    }
   ],
   "source": [
    "train.shape"
   ]
  },
  {
   "cell_type": "code",
   "execution_count": 111,
   "metadata": {},
   "outputs": [
    {
     "data": {
      "text/plain": [
       "(1827, 63)"
      ]
     },
     "execution_count": 111,
     "metadata": {},
     "output_type": "execute_result"
    }
   ],
   "source": [
    "test.shape"
   ]
  },
  {
   "cell_type": "code",
   "execution_count": 169,
   "metadata": {},
   "outputs": [
    {
     "data": {
      "text/plain": [
       "0.006810166605861608"
      ]
     },
     "execution_count": 169,
     "metadata": {},
     "output_type": "execute_result"
    }
   ],
   "source": [
    "sum(train['y']==1)/len(train)"
   ]
  },
  {
   "cell_type": "code",
   "execution_count": 109,
   "metadata": {},
   "outputs": [],
   "source": [
    "train.to_csv('train.csv', index=False)\n",
    "test.to_csv('test.csv', index=False)"
   ]
  },
  {
   "cell_type": "markdown",
   "metadata": {},
   "source": [
    "## Simple Modeling Examples"
   ]
  },
  {
   "cell_type": "markdown",
   "metadata": {},
   "source": [
    "### Logistic Regression"
   ]
  },
  {
   "cell_type": "code",
   "execution_count": 112,
   "metadata": {},
   "outputs": [
    {
     "name": "stderr",
     "output_type": "stream",
     "text": [
      "C:\\Users\\Andy_Ko\\Anaconda3\\envs\\Papermill\\lib\\site-packages\\sklearn\\linear_model\\sag.py:337: ConvergenceWarning: The max_iter was reached which means the coef_ did not converge\n",
      "  \"the coef_ did not converge\", ConvergenceWarning)\n"
     ]
    }
   ],
   "source": [
    "clf_o = LogisticRegression(class_weight = 'balanced', max_iter = 10000, penalty = 'l2', solver = 'saga', C = 0.0067).fit(X_train, y_train)"
   ]
  },
  {
   "cell_type": "code",
   "execution_count": 113,
   "metadata": {},
   "outputs": [
    {
     "data": {
      "text/plain": [
       "array([1, 1], dtype=int64)"
      ]
     },
     "execution_count": 113,
     "metadata": {},
     "output_type": "execute_result"
    }
   ],
   "source": [
    "clf_o.predict(X_train.iloc[:2, :])"
   ]
  },
  {
   "cell_type": "code",
   "execution_count": 114,
   "metadata": {},
   "outputs": [
    {
     "data": {
      "text/plain": [
       "0.5695609874741578"
      ]
     },
     "execution_count": 114,
     "metadata": {},
     "output_type": "execute_result"
    }
   ],
   "source": [
    "clf_o.score(X_train,y_train)"
   ]
  },
  {
   "cell_type": "code",
   "execution_count": 115,
   "metadata": {},
   "outputs": [],
   "source": [
    "pred = clf_o.predict(X_test)"
   ]
  },
  {
   "cell_type": "markdown",
   "metadata": {},
   "source": [
    "Print precision, recall, and f1 score"
   ]
  },
  {
   "cell_type": "code",
   "execution_count": 116,
   "metadata": {},
   "outputs": [
    {
     "name": "stdout",
     "output_type": "stream",
     "text": [
      "Precision: 0.006153846153846154\n",
      "Recall: 0.36363636363636365\n",
      "F1-Score: 0.01210287443267776\n"
     ]
    }
   ],
   "source": [
    "print('Precision: ' + str(precision_score(y_test, pred)))\n",
    "print('Recall: ' + str(recall_score(y_test, pred)))\n",
    "print('F1-Score: ' + str(f1_score(y_test, pred)))"
   ]
  },
  {
   "cell_type": "markdown",
   "metadata": {},
   "source": [
    "### Gradient Boosting"
   ]
  },
  {
   "cell_type": "code",
   "execution_count": 139,
   "metadata": {},
   "outputs": [
    {
     "data": {
      "text/plain": [
       "0.006810166605861608"
      ]
     },
     "execution_count": 139,
     "metadata": {},
     "output_type": "execute_result"
    }
   ],
   "source": [
    "sum(y_train==0)/sum(y_train)"
   ]
  },
  {
   "cell_type": "code",
   "execution_count": 142,
   "metadata": {},
   "outputs": [],
   "source": [
    "def modelfit(alg, dtrain, predictors,useTrainCV=True, cv_folds=5, early_stopping_rounds=50):\n",
    "    \n",
    "    if useTrainCV:\n",
    "        xgb_param = alg.get_xgb_params()\n",
    "        xgtrain = xgb.DMatrix(dtrain[predictors].values, label=dtrain['y'].values)\n",
    "        cvresult = xgb.cv(xgb_param, xgtrain, num_boost_round=alg.get_params()['n_estimators'], nfold=cv_folds,\n",
    "            metrics='auc', early_stopping_rounds=early_stopping_rounds, verbose_eval=False)\n",
    "        alg.set_params(n_estimators=cvresult.shape[0])\n",
    "    \n",
    "    #Fit the algorithm on the data\n",
    "    alg.fit(dtrain[predictors], dtrain['y'],eval_metric='auc')\n",
    "        \n",
    "    #Predict training set:\n",
    "    dtrain_predictions = alg.predict(dtrain[predictors])\n",
    "    dtrain_predprob = alg.predict_proba(dtrain[predictors])[:,1]\n",
    "        \n",
    "    #Print model report:\n",
    "    print(\"\\nModel Report\")\n",
    "    print (\"Accuracy : %.4g\" % metrics.accuracy_score(dtrain['y'].values, dtrain_predictions))\n",
    "    print (\"AUC Score (Train): %f\" % metrics.roc_auc_score(dtrain['y'], dtrain_predprob))    \n",
    "    feat_imp = pd.Series(alg.get_booster().get_fscore()).sort_values(ascending=False)\n",
    "    feat_imp.plot(kind='bar', title='Feature Importances')\n",
    "    plt.ylabel('Feature Importance Score')"
   ]
  },
  {
   "cell_type": "code",
   "execution_count": 158,
   "metadata": {},
   "outputs": [],
   "source": [
    "predictors = X_train.columns\n",
    "xgb1 = XGBClassifier(\n",
    " learning_rate =0.01,\n",
    " n_estimators=1000,\n",
    " max_depth=5,\n",
    " min_child_weight=1,\n",
    " gamma=0,\n",
    " subsample=0.8,\n",
    " colsample_bytree=0.8,\n",
    " objective= 'binary:logistic',\n",
    " nthread=2,\n",
    " scale_pos_weight=145,\n",
    " seed=27)"
   ]
  },
  {
   "cell_type": "code",
   "execution_count": 159,
   "metadata": {},
   "outputs": [
    {
     "name": "stdout",
     "output_type": "stream",
     "text": [
      "\n",
      "Model Report\n",
      "Accuracy : 0.914\n",
      "AUC Score (Train): 0.974393\n"
     ]
    },
    {
     "data": {
      "image/png": "[encoded data removed]",
      "text/plain": [
       "<Figure size 432x288 with 1 Axes>"
      ]
     },
     "metadata": {
      "needs_background": "light"
     },
     "output_type": "display_data"
    }
   ],
   "source": [
    "modelfit(xgb1, train, predictors)"
   ]
  },
  {
   "cell_type": "code",
   "execution_count": 160,
   "metadata": {},
   "outputs": [
    {
     "data": {
      "text/plain": [
       "{'base_score': 0.5,\n",
       " 'booster': 'gbtree',\n",
       " 'colsample_bylevel': 1,\n",
       " 'colsample_bynode': 1,\n",
       " 'colsample_bytree': 0.8,\n",
       " 'gamma': 0,\n",
       " 'learning_rate': 0.01,\n",
       " 'max_delta_step': 0,\n",
       " 'max_depth': 5,\n",
       " 'min_child_weight': 1,\n",
       " 'missing': None,\n",
       " 'n_estimators': 24,\n",
       " 'nthread': 2,\n",
       " 'objective': 'binary:logistic',\n",
       " 'reg_alpha': 0,\n",
       " 'reg_lambda': 1,\n",
       " 'scale_pos_weight': 145,\n",
       " 'seed': 27,\n",
       " 'subsample': 0.8,\n",
       " 'verbosity': 1}"
      ]
     },
     "execution_count": 160,
     "metadata": {},
     "output_type": "execute_result"
    }
   ],
   "source": [
    "xgb1.get_xgb_params()"
   ]
  },
  {
   "cell_type": "code",
   "execution_count": 162,
   "metadata": {},
   "outputs": [
    {
     "data": {
      "text/plain": [
       "({'max_depth': 5, 'min_child_weight': 5}, 0.02992370387184117)"
      ]
     },
     "execution_count": 162,
     "metadata": {},
     "output_type": "execute_result"
    }
   ],
   "source": [
    "param_test1 = {\n",
    " 'max_depth':range(3,10,2),\n",
    " 'min_child_weight':range(1,6,2)\n",
    "}\n",
    "gsearch1 = GridSearchCV(estimator = XGBClassifier( learning_rate =0.05, n_estimators=24, max_depth=5,\n",
    " min_child_weight=1, gamma=0, subsample=0.8, colsample_bytree=0.8,\n",
    " objective= 'binary:logistic', nthread=2, scale_pos_weight=145, seed=27), \n",
    " param_grid = param_test1, scoring='f1',n_jobs=2,iid=False, cv=4)\n",
    "\n",
    "gsearch1.fit(train[predictors], train['y'])\n",
    "gsearch1.best_params_, gsearch1.best_score_"
   ]
  },
  {
   "cell_type": "code",
   "execution_count": 163,
   "metadata": {},
   "outputs": [
    {
     "data": {
      "text/plain": [
       "({'max_depth': 5, 'min_child_weight': 5}, 0.02992370387184117)"
      ]
     },
     "execution_count": 163,
     "metadata": {},
     "output_type": "execute_result"
    }
   ],
   "source": [
    "param_test2 = {\n",
    " 'max_depth':[4,5,6],\n",
    " 'min_child_weight':[4,5,6]\n",
    "}\n",
    "gsearch2 = GridSearchCV(estimator = XGBClassifier( learning_rate=0.05, n_estimators=24, max_depth=5,\n",
    " min_child_weight=5, gamma=0, subsample=0.8, colsample_bytree=0.8,\n",
    " objective= 'binary:logistic', nthread=2, scale_pos_weight=145,seed=27), \n",
    " param_grid = param_test2, scoring='f1',n_jobs=2,iid=False, cv=4)\n",
    "gsearch2.fit(train[predictors],train['y'])\n",
    "gsearch2.best_params_, gsearch2.best_score_"
   ]
  },
  {
   "cell_type": "code",
   "execution_count": 164,
   "metadata": {},
   "outputs": [
    {
     "data": {
      "text/plain": [
       "({'gamma': 0.3}, 0.030475783371289093)"
      ]
     },
     "execution_count": 164,
     "metadata": {},
     "output_type": "execute_result"
    }
   ],
   "source": [
    "param_test3 = {\n",
    " 'gamma':[i/10.0 for i in range(0,5)]\n",
    "}\n",
    "gsearch3 = GridSearchCV(estimator = XGBClassifier( learning_rate =0.05, n_estimators=24, max_depth=5,\n",
    " min_child_weight=5, gamma=0, subsample=0.8, colsample_bytree=0.8,\n",
    " objective= 'binary:logistic', nthread=2, scale_pos_weight=145,seed=27), \n",
    " param_grid = param_test3, scoring='f1',n_jobs=2,iid=False, cv=4)\n",
    "gsearch3.fit(train[predictors],train['y'])\n",
    "gsearch3.best_params_, gsearch3.best_score_"
   ]
  },
  {
   "cell_type": "code",
   "execution_count": 165,
   "metadata": {},
   "outputs": [
    {
     "name": "stdout",
     "output_type": "stream",
     "text": [
      "\n",
      "Model Report\n",
      "Accuracy : 0.9257\n",
      "AUC Score (Train): 0.981513\n"
     ]
    },
    {
     "data": {
      "image/png": "[encoded data removed]",
      "text/plain": [
       "<Figure size 432x288 with 1 Axes>"
      ]
     },
     "metadata": {
      "needs_background": "light"
     },
     "output_type": "display_data"
    }
   ],
   "source": [
    "xgb2 = XGBClassifier(\n",
    " learning_rate =0.05,\n",
    " n_estimators=24,\n",
    " max_depth=5,\n",
    " min_child_weight=5,\n",
    " gamma=0.3,\n",
    " subsample=0.8,\n",
    " colsample_bytree=0.8,\n",
    " objective= 'binary:logistic',\n",
    " nthread=2,\n",
    " scale_pos_weight=145,\n",
    " seed=27)\n",
    "modelfit(xgb2, train, predictors)"
   ]
  },
  {
   "cell_type": "code",
   "execution_count": 166,
   "metadata": {},
   "outputs": [
    {
     "data": {
      "text/plain": [
       "0.0"
      ]
     },
     "execution_count": 166,
     "metadata": {},
     "output_type": "execute_result"
    }
   ],
   "source": [
    "pred = xgb2.predict(X_test)\n",
    "f1_score(y_test, pred)"
   ]
  }
 ],
 "metadata": {
  "kernelspec": {
   "display_name": "Python 3",
   "language": "python",
   "name": "python3"
  },
  "language_info": {
   "codemirror_mode": {
    "name": "ipython",
    "version": 3
   },
   "file_extension": ".py",
   "mimetype": "text/x-python",
   "name": "python",
   "nbconvert_exporter": "python",
   "pygments_lexer": "ipython3",
   "version": "3.7.3"
  }
 },
 "nbformat": 4,
 "nbformat_minor": 2
}
